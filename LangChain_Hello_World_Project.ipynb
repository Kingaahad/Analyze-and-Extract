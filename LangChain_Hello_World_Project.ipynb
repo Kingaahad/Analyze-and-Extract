{
  "nbformat": 4,
  "nbformat_minor": 0,
  "metadata": {
    "colab": {
      "provenance": [],
      "gpuType": "T4",
      "authorship_tag": "ABX9TyNLLlxb2e7uDV3l7KWykr1k",
      "include_colab_link": true
    },
    "kernelspec": {
      "name": "python3",
      "display_name": "Python 3"
    },
    "language_info": {
      "name": "python"
    },
    "accelerator": "GPU"
  },
  "cells": [
    {
      "cell_type": "markdown",
      "metadata": {
        "id": "view-in-github",
        "colab_type": "text"
      },
      "source": [
        "<a href=\"https://colab.research.google.com/github/Kingaahad/Analyze-and-Extract/blob/main/LangChain_Hello_World_Project.ipynb\" target=\"_parent\"><img src=\"https://colab.research.google.com/assets/colab-badge.svg\" alt=\"Open In Colab\"/></a>"
      ]
    },
    {
      "cell_type": "code",
      "source": [
        "!pip install langchain langchain-google-genai"
      ],
      "metadata": {
        "colab": {
          "base_uri": "https://localhost:8080/"
        },
        "id": "w_VsITdr2u-W",
        "outputId": "e268d02e-16fa-43af-83f6-a45df1d978fa"
      },
      "execution_count": 2,
      "outputs": [
        {
          "output_type": "stream",
          "name": "stdout",
          "text": [
            "Requirement already satisfied: langchain in /usr/local/lib/python3.11/dist-packages (0.3.14)\n",
            "Collecting langchain-google-genai\n",
            "  Downloading langchain_google_genai-2.0.8-py3-none-any.whl.metadata (3.6 kB)\n",
            "Requirement already satisfied: PyYAML>=5.3 in /usr/local/lib/python3.11/dist-packages (from langchain) (6.0.2)\n",
            "Requirement already satisfied: SQLAlchemy<3,>=1.4 in /usr/local/lib/python3.11/dist-packages (from langchain) (2.0.37)\n",
            "Requirement already satisfied: aiohttp<4.0.0,>=3.8.3 in /usr/local/lib/python3.11/dist-packages (from langchain) (3.11.11)\n",
            "Requirement already satisfied: langchain-core<0.4.0,>=0.3.29 in /usr/local/lib/python3.11/dist-packages (from langchain) (0.3.29)\n",
            "Requirement already satisfied: langchain-text-splitters<0.4.0,>=0.3.3 in /usr/local/lib/python3.11/dist-packages (from langchain) (0.3.5)\n",
            "Requirement already satisfied: langsmith<0.3,>=0.1.17 in /usr/local/lib/python3.11/dist-packages (from langchain) (0.2.10)\n",
            "Requirement already satisfied: numpy<2,>=1.22.4 in /usr/local/lib/python3.11/dist-packages (from langchain) (1.26.4)\n",
            "Requirement already satisfied: pydantic<3.0.0,>=2.7.4 in /usr/local/lib/python3.11/dist-packages (from langchain) (2.10.5)\n",
            "Requirement already satisfied: requests<3,>=2 in /usr/local/lib/python3.11/dist-packages (from langchain) (2.32.3)\n",
            "Requirement already satisfied: tenacity!=8.4.0,<10,>=8.1.0 in /usr/local/lib/python3.11/dist-packages (from langchain) (9.0.0)\n",
            "Collecting filetype<2.0.0,>=1.2.0 (from langchain-google-genai)\n",
            "  Downloading filetype-1.2.0-py2.py3-none-any.whl.metadata (6.5 kB)\n",
            "Requirement already satisfied: google-generativeai<0.9.0,>=0.8.0 in /usr/local/lib/python3.11/dist-packages (from langchain-google-genai) (0.8.3)\n",
            "Requirement already satisfied: aiohappyeyeballs>=2.3.0 in /usr/local/lib/python3.11/dist-packages (from aiohttp<4.0.0,>=3.8.3->langchain) (2.4.4)\n",
            "Requirement already satisfied: aiosignal>=1.1.2 in /usr/local/lib/python3.11/dist-packages (from aiohttp<4.0.0,>=3.8.3->langchain) (1.3.2)\n",
            "Requirement already satisfied: attrs>=17.3.0 in /usr/local/lib/python3.11/dist-packages (from aiohttp<4.0.0,>=3.8.3->langchain) (24.3.0)\n",
            "Requirement already satisfied: frozenlist>=1.1.1 in /usr/local/lib/python3.11/dist-packages (from aiohttp<4.0.0,>=3.8.3->langchain) (1.5.0)\n",
            "Requirement already satisfied: multidict<7.0,>=4.5 in /usr/local/lib/python3.11/dist-packages (from aiohttp<4.0.0,>=3.8.3->langchain) (6.1.0)\n",
            "Requirement already satisfied: propcache>=0.2.0 in /usr/local/lib/python3.11/dist-packages (from aiohttp<4.0.0,>=3.8.3->langchain) (0.2.1)\n",
            "Requirement already satisfied: yarl<2.0,>=1.17.0 in /usr/local/lib/python3.11/dist-packages (from aiohttp<4.0.0,>=3.8.3->langchain) (1.18.3)\n",
            "Requirement already satisfied: google-ai-generativelanguage==0.6.10 in /usr/local/lib/python3.11/dist-packages (from google-generativeai<0.9.0,>=0.8.0->langchain-google-genai) (0.6.10)\n",
            "Requirement already satisfied: google-api-core in /usr/local/lib/python3.11/dist-packages (from google-generativeai<0.9.0,>=0.8.0->langchain-google-genai) (2.19.2)\n",
            "Requirement already satisfied: google-api-python-client in /usr/local/lib/python3.11/dist-packages (from google-generativeai<0.9.0,>=0.8.0->langchain-google-genai) (2.155.0)\n",
            "Requirement already satisfied: google-auth>=2.15.0 in /usr/local/lib/python3.11/dist-packages (from google-generativeai<0.9.0,>=0.8.0->langchain-google-genai) (2.27.0)\n",
            "Requirement already satisfied: protobuf in /usr/local/lib/python3.11/dist-packages (from google-generativeai<0.9.0,>=0.8.0->langchain-google-genai) (4.25.5)\n",
            "Requirement already satisfied: tqdm in /usr/local/lib/python3.11/dist-packages (from google-generativeai<0.9.0,>=0.8.0->langchain-google-genai) (4.67.1)\n",
            "Requirement already satisfied: typing-extensions in /usr/local/lib/python3.11/dist-packages (from google-generativeai<0.9.0,>=0.8.0->langchain-google-genai) (4.12.2)\n",
            "Requirement already satisfied: proto-plus<2.0.0dev,>=1.22.3 in /usr/local/lib/python3.11/dist-packages (from google-ai-generativelanguage==0.6.10->google-generativeai<0.9.0,>=0.8.0->langchain-google-genai) (1.25.0)\n",
            "Requirement already satisfied: jsonpatch<2.0,>=1.33 in /usr/local/lib/python3.11/dist-packages (from langchain-core<0.4.0,>=0.3.29->langchain) (1.33)\n",
            "Requirement already satisfied: packaging<25,>=23.2 in /usr/local/lib/python3.11/dist-packages (from langchain-core<0.4.0,>=0.3.29->langchain) (24.2)\n",
            "Requirement already satisfied: httpx<1,>=0.23.0 in /usr/local/lib/python3.11/dist-packages (from langsmith<0.3,>=0.1.17->langchain) (0.28.1)\n",
            "Requirement already satisfied: orjson<4.0.0,>=3.9.14 in /usr/local/lib/python3.11/dist-packages (from langsmith<0.3,>=0.1.17->langchain) (3.10.14)\n",
            "Requirement already satisfied: requests-toolbelt<2.0.0,>=1.0.0 in /usr/local/lib/python3.11/dist-packages (from langsmith<0.3,>=0.1.17->langchain) (1.0.0)\n",
            "Requirement already satisfied: annotated-types>=0.6.0 in /usr/local/lib/python3.11/dist-packages (from pydantic<3.0.0,>=2.7.4->langchain) (0.7.0)\n",
            "Requirement already satisfied: pydantic-core==2.27.2 in /usr/local/lib/python3.11/dist-packages (from pydantic<3.0.0,>=2.7.4->langchain) (2.27.2)\n",
            "Requirement already satisfied: charset-normalizer<4,>=2 in /usr/local/lib/python3.11/dist-packages (from requests<3,>=2->langchain) (3.4.1)\n",
            "Requirement already satisfied: idna<4,>=2.5 in /usr/local/lib/python3.11/dist-packages (from requests<3,>=2->langchain) (3.10)\n",
            "Requirement already satisfied: urllib3<3,>=1.21.1 in /usr/local/lib/python3.11/dist-packages (from requests<3,>=2->langchain) (2.3.0)\n",
            "Requirement already satisfied: certifi>=2017.4.17 in /usr/local/lib/python3.11/dist-packages (from requests<3,>=2->langchain) (2024.12.14)\n",
            "Requirement already satisfied: greenlet!=0.4.17 in /usr/local/lib/python3.11/dist-packages (from SQLAlchemy<3,>=1.4->langchain) (3.1.1)\n",
            "Requirement already satisfied: googleapis-common-protos<2.0.dev0,>=1.56.2 in /usr/local/lib/python3.11/dist-packages (from google-api-core->google-generativeai<0.9.0,>=0.8.0->langchain-google-genai) (1.66.0)\n",
            "Requirement already satisfied: cachetools<6.0,>=2.0.0 in /usr/local/lib/python3.11/dist-packages (from google-auth>=2.15.0->google-generativeai<0.9.0,>=0.8.0->langchain-google-genai) (5.5.0)\n",
            "Requirement already satisfied: pyasn1-modules>=0.2.1 in /usr/local/lib/python3.11/dist-packages (from google-auth>=2.15.0->google-generativeai<0.9.0,>=0.8.0->langchain-google-genai) (0.4.1)\n",
            "Requirement already satisfied: rsa<5,>=3.1.4 in /usr/local/lib/python3.11/dist-packages (from google-auth>=2.15.0->google-generativeai<0.9.0,>=0.8.0->langchain-google-genai) (4.9)\n",
            "Requirement already satisfied: anyio in /usr/local/lib/python3.11/dist-packages (from httpx<1,>=0.23.0->langsmith<0.3,>=0.1.17->langchain) (3.7.1)\n",
            "Requirement already satisfied: httpcore==1.* in /usr/local/lib/python3.11/dist-packages (from httpx<1,>=0.23.0->langsmith<0.3,>=0.1.17->langchain) (1.0.7)\n",
            "Requirement already satisfied: h11<0.15,>=0.13 in /usr/local/lib/python3.11/dist-packages (from httpcore==1.*->httpx<1,>=0.23.0->langsmith<0.3,>=0.1.17->langchain) (0.14.0)\n",
            "Requirement already satisfied: jsonpointer>=1.9 in /usr/local/lib/python3.11/dist-packages (from jsonpatch<2.0,>=1.33->langchain-core<0.4.0,>=0.3.29->langchain) (3.0.0)\n",
            "Requirement already satisfied: httplib2<1.dev0,>=0.19.0 in /usr/local/lib/python3.11/dist-packages (from google-api-python-client->google-generativeai<0.9.0,>=0.8.0->langchain-google-genai) (0.22.0)\n",
            "Requirement already satisfied: google-auth-httplib2<1.0.0,>=0.2.0 in /usr/local/lib/python3.11/dist-packages (from google-api-python-client->google-generativeai<0.9.0,>=0.8.0->langchain-google-genai) (0.2.0)\n",
            "Requirement already satisfied: uritemplate<5,>=3.0.1 in /usr/local/lib/python3.11/dist-packages (from google-api-python-client->google-generativeai<0.9.0,>=0.8.0->langchain-google-genai) (4.1.1)\n",
            "Requirement already satisfied: grpcio<2.0dev,>=1.33.2 in /usr/local/lib/python3.11/dist-packages (from google-api-core[grpc]!=2.0.*,!=2.1.*,!=2.10.*,!=2.2.*,!=2.3.*,!=2.4.*,!=2.5.*,!=2.6.*,!=2.7.*,!=2.8.*,!=2.9.*,<3.0.0dev,>=1.34.1->google-ai-generativelanguage==0.6.10->google-generativeai<0.9.0,>=0.8.0->langchain-google-genai) (1.69.0)\n",
            "Requirement already satisfied: grpcio-status<2.0.dev0,>=1.33.2 in /usr/local/lib/python3.11/dist-packages (from google-api-core[grpc]!=2.0.*,!=2.1.*,!=2.10.*,!=2.2.*,!=2.3.*,!=2.4.*,!=2.5.*,!=2.6.*,!=2.7.*,!=2.8.*,!=2.9.*,<3.0.0dev,>=1.34.1->google-ai-generativelanguage==0.6.10->google-generativeai<0.9.0,>=0.8.0->langchain-google-genai) (1.62.3)\n",
            "Requirement already satisfied: pyparsing!=3.0.0,!=3.0.1,!=3.0.2,!=3.0.3,<4,>=2.4.2 in /usr/local/lib/python3.11/dist-packages (from httplib2<1.dev0,>=0.19.0->google-api-python-client->google-generativeai<0.9.0,>=0.8.0->langchain-google-genai) (3.2.1)\n",
            "Requirement already satisfied: pyasn1<0.7.0,>=0.4.6 in /usr/local/lib/python3.11/dist-packages (from pyasn1-modules>=0.2.1->google-auth>=2.15.0->google-generativeai<0.9.0,>=0.8.0->langchain-google-genai) (0.6.1)\n",
            "Requirement already satisfied: sniffio>=1.1 in /usr/local/lib/python3.11/dist-packages (from anyio->httpx<1,>=0.23.0->langsmith<0.3,>=0.1.17->langchain) (1.3.1)\n",
            "Downloading langchain_google_genai-2.0.8-py3-none-any.whl (41 kB)\n",
            "\u001b[2K   \u001b[90m━━━━━━━━━━━━━━━━━━━━━━━━━━━━━━━━━━━━━━━━\u001b[0m \u001b[32m41.5/41.5 kB\u001b[0m \u001b[31m2.4 MB/s\u001b[0m eta \u001b[36m0:00:00\u001b[0m\n",
            "\u001b[?25hDownloading filetype-1.2.0-py2.py3-none-any.whl (19 kB)\n",
            "Installing collected packages: filetype, langchain-google-genai\n",
            "Successfully installed filetype-1.2.0 langchain-google-genai-2.0.8\n"
          ]
        }
      ]
    },
    {
      "cell_type": "code",
      "source": [
        "import langchain_google_genai as genai"
      ],
      "metadata": {
        "id": "6k66NiJl3v27"
      },
      "execution_count": 7,
      "outputs": []
    },
    {
      "cell_type": "code",
      "source": [
        "from langchain_google_genai import ChatGoogleGenerativeAI"
      ],
      "metadata": {
        "id": "41FWeXgx33z1"
      },
      "execution_count": 8,
      "outputs": []
    },
    {
      "cell_type": "code",
      "source": [
        "from google.colab import userdata\n",
        "GOOGLE_API_KEY = userdata.get('GOOGLE_API_KEY')"
      ],
      "metadata": {
        "id": "yKzl-o0nh9dk"
      },
      "execution_count": 9,
      "outputs": []
    },
    {
      "source": [
        "model : ChatGoogleGenerativeAI = ChatGoogleGenerativeAI(\n",
        "    api_key=GOOGLE_API_KEY,\n",
        "    model=\"gemini-1.5-flash\",\n",
        "    temperature=0.7  # Adjust for creativity\n",
        ")\n"
      ],
      "cell_type": "code",
      "metadata": {
        "id": "F5XF_63NjD0g"
      },
      "execution_count": 38,
      "outputs": []
    },
    {
      "cell_type": "code",
      "source": [
        "response1= model.invoke(\"What is the constitution of Pakistan?\")"
      ],
      "metadata": {
        "id": "KGd93VmTkdpx"
      },
      "execution_count": 39,
      "outputs": []
    },
    {
      "cell_type": "code",
      "source": [
        "print(response1.content)"
      ],
      "metadata": {
        "colab": {
          "base_uri": "https://localhost:8080/"
        },
        "id": "w59foAF4kq-b",
        "outputId": "135a616e-64ed-4fff-90fb-c61c290dc4df"
      },
      "execution_count": 37,
      "outputs": [
        {
          "output_type": "stream",
          "name": "stdout",
          "text": [
            "The Constitution of the Islamic Republic of Pakistan is the supreme law of Pakistan.  It outlines the framework of the government, defines the basic rights of citizens, and establishes the relationship between the different branches of government.\n",
            "\n",
            "Key features of the Pakistani Constitution include:\n",
            "\n",
            "* **Islamic Republic:**  Pakistan is declared an Islamic Republic, meaning Islam is the state religion, and Islamic principles are to guide legislation.  However, the constitution also guarantees freedom of religion for minorities.  The interpretation and implementation of this aspect have been a source of ongoing debate and political maneuvering.\n",
            "\n",
            "* **Federal Parliamentary System (currently):**  While Pakistan has experimented with presidential systems in the past, it currently operates under a parliamentary system with a federal structure.  Power is divided between the federal government and the four provinces (Punjab, Sindh, Khyber Pakhtunkhwa, and Balochistan), along with the Islamabad Capital Territory and Azad Jammu and Kashmir (a self-governing territory).\n",
            "\n",
            "* **Three Branches of Government:**  The constitution establishes three distinct branches of government:\n",
            "    * **The Legislature:**  A bicameral parliament consisting of the National Assembly (lower house) and the Senate (upper house).\n",
            "    * **The Executive:**  Headed by the Prime Minister, who is the head of government, and the President, who is the head of state (largely ceremonial).\n",
            "    * **The Judiciary:**  An independent judiciary headed by the Supreme Court of Pakistan.\n",
            "\n",
            "* **Fundamental Rights:**  The constitution guarantees fundamental rights to all citizens, including the right to life, liberty, equality before the law, freedom of speech, religion, and assembly.  However, these rights are subject to certain limitations, particularly regarding national security and public order.\n",
            "\n",
            "* **Amendments:** The constitution can be amended through a complex process requiring a supermajority in parliament.  It has been amended numerous times since its adoption in 1973.\n",
            "\n",
            "* **Objective Resolution:**  The preamble includes the Objective Resolution, which outlines the Islamic ideals and social justice goals that the constitution aims to achieve.  This resolution has been a source of both inspiration and controversy.\n",
            "\n",
            "It's crucial to understand that the Pakistani constitution is a living document, and its interpretation and application have been subject to considerable debate and evolution throughout Pakistan's history.  The relationship between Islamic principles and democratic governance remains a central and often contentious theme in Pakistani politics.\n"
          ]
        }
      ]
    },
    {
      "cell_type": "code",
      "source": [
        "questions = [\n",
        "    \"What are the fundamental principles of the Constitution of Pakistan?\",\n",
        "    \"When was the Constitution of Pakistan enacted?\",\n",
        "    \"What are the key features of the 1973 Constitution of Pakistan?\",\n",
        "    \"How does the Constitution of Pakistan define the powers of the federal government?\",\n",
        "    \"What are the fundamental rights guaranteed by the Constitution of Pakistan?\"\n",
        "]\n",
        "\n",
        "# Loop through additional questions\n",
        "for question in questions:\n",
        "    response = model.invoke(question)\n",
        "    print(f\"Question: {question}\")\n",
        "    print(f\"Answer: {response.content}\\n\")"
      ],
      "metadata": {
        "colab": {
          "base_uri": "https://localhost:8080/"
        },
        "id": "cSqbttW9nVwl",
        "outputId": "36714911-2222-489a-a90b-9a064f9c1e58"
      },
      "execution_count": 40,
      "outputs": [
        {
          "output_type": "stream",
          "name": "stdout",
          "text": [
            "Question: What are the fundamental principles of the Constitution of Pakistan?\n",
            "Answer: The Constitution of Pakistan, adopted in 1973 (with subsequent amendments), is based on several fundamental principles:\n",
            "\n",
            "**1. Sovereignty of Allah and the Authority of the Prophet Muhammad (PBUH):**  The preamble explicitly states that sovereignty belongs to Allah alone and the authority of the state is derived from Him.  This principle underlines the Islamic character of the state.  It's important to note that the interpretation and implementation of this principle have been a source of ongoing debate and political contention.\n",
            "\n",
            "**2. Federal Parliamentary Democracy:** Pakistan is a federal republic with a parliamentary system of government. Power is divided between the federal government and the provincial governments. The Parliament, consisting of the National Assembly (lower house) and the Senate (upper house), is the supreme legislative body.  The head of state is the President, while the head of government is the Prime Minister.\n",
            "\n",
            "**3. Rule of Law:** The Constitution establishes the supremacy of law and guarantees fundamental rights to all citizens, regardless of religion, caste, or creed.  This principle, however, is often challenged in practice.\n",
            "\n",
            "**4. Fundamental Rights:**  A comprehensive chapter is dedicated to fundamental rights, including the right to life, liberty, equality before the law, freedom of speech, religion, and assembly.  However, these rights are not absolute and can be subject to reasonable restrictions.\n",
            "\n",
            "**5. Islamic Ideology:**  The Constitution incorporates Islamic principles into the legal and political framework. This includes the objective of establishing an Islamic welfare state and incorporating Islamic laws (Sharia) in the legal system where deemed appropriate by the legislature. The exact extent and interpretation of this principle remains a subject of ongoing debate.\n",
            "\n",
            "**6. Separation of Powers (with qualifications):**  While aiming for a separation of powers between the legislature, executive, and judiciary, the Pakistani system doesn't adhere to a strict separation.  There's significant overlap and interaction between the branches, particularly with the President's powers.\n",
            "\n",
            "**7. Federalism:**  The Constitution recognizes four provinces (Punjab, Sindh, Khyber Pakhtunkhwa, and Balochistan) and the Islamabad Capital Territory, each with its own provincial government and legislative assembly.  This principle aims to balance power and accommodate regional diversity, though its implementation has often been uneven.\n",
            "\n",
            "**8. Independence of the Judiciary:**  The Constitution establishes an independent judiciary with the Supreme Court as the highest court of appeal. However, the independence of the judiciary has been challenged at various points in Pakistan's history.\n",
            "\n",
            "\n",
            "It is crucial to understand that while these are the fundamental principles enshrined in the Constitution, their practical application and interpretation have been a subject of ongoing debate and political maneuvering throughout Pakistan's history.  The balance between Islamic ideology, democratic principles, and the rule of law remains a central challenge for the country.\n",
            "\n",
            "Question: When was the Constitution of Pakistan enacted?\n",
            "Answer: The Constitution of Pakistan was enacted on **March 23, 1956**.  However, it was later abrogated and replaced by the current Constitution, which came into effect on **June 1962**.\n",
            "\n",
            "Question: What are the key features of the 1973 Constitution of Pakistan?\n",
            "Answer: The 1973 Constitution of Pakistan, currently in effect, is a landmark document with several key features:\n",
            "\n",
            "**1. Islamic Republic:**  It declares Pakistan an Islamic Republic, establishing Islam as the state religion.  This is reflected in various provisions, including the oath of office, the objective resolution, and the inclusion of Islamic principles in the legal system.  However, it also guarantees fundamental rights to all citizens regardless of their religion.\n",
            "\n",
            "**2. Parliamentary System:** It establishes a parliamentary system of government, with a bicameral legislature (National Assembly and Senate), a Prime Minister as the head of government, and a President as the head of state (largely ceremonial).\n",
            "\n",
            "**3. Federal Structure:** The constitution outlines a federal structure, dividing powers between the federal government and the provinces.  However, the distribution of powers has been a source of ongoing debate and tension throughout Pakistan's history.\n",
            "\n",
            "**4. Fundamental Rights:**  It guarantees fundamental rights to all citizens, including the right to life, liberty, equality before the law, freedom of speech and expression, freedom of religion, and the right to education.  However, these rights are not absolute and can be subject to reasonable restrictions.\n",
            "\n",
            "**5. Directive Principles of State Policy:**  The constitution includes a set of directive principles of state policy, which guide the state in its social and economic policies. These principles aim to promote social justice, economic equality, and the welfare of the people.  These are not legally enforceable but serve as aspirational goals.\n",
            "\n",
            "**6. Independent Judiciary:**  The constitution establishes an independent judiciary, with the Supreme Court as the highest court of appeal.  The judiciary's role in safeguarding fundamental rights and upholding the rule of law is crucial, although its independence has been challenged at various points in Pakistan's history.\n",
            "\n",
            "**7. Provincial Autonomy:** While a federal system is established, the degree of provincial autonomy has been a subject of contention and amendments. The constitution seeks to balance federal authority with provincial rights.\n",
            "\n",
            "**8. Objective Resolution:**  The constitution incorporates the Objective Resolution, a statement of national goals and aspirations adopted in 1949.  It aims to establish a social order based on Islamic principles, social justice, and the rule of law.  However, its interpretation and implementation have been a subject of ongoing debate.\n",
            "\n",
            "**9. Amendment Process:** The constitution outlines a process for amendment, allowing for changes to be made to the document over time.  However, certain provisions are considered unamendable.\n",
            "\n",
            "**10. Emergency Provisions:**  The constitution includes provisions for dealing with emergencies, allowing the government to take extraordinary measures during times of crisis.  These provisions have been used on several occasions, sometimes raising concerns about the erosion of democratic rights.\n",
            "\n",
            "\n",
            "It's important to note that despite its provisions, the actual implementation of the 1973 Constitution has been inconsistent throughout Pakistan's history.  Military interventions, political instability, and ongoing debates over the balance of power have all influenced its practical application.\n",
            "\n",
            "Question: How does the Constitution of Pakistan define the powers of the federal government?\n",
            "Answer: The Constitution of Pakistan defines the powers of the federal government primarily through a system of **three lists:**\n",
            "\n",
            "* **Federal Legislative List (Concurrent List):**  This list outlines subjects over which only the federal government can legislate.  These are areas considered crucial for national unity, security, and overall governance. Examples include defense, foreign affairs, currency, interprovincial trade and commerce, and national economic planning.\n",
            "\n",
            "* **Provincial Legislative List (Concurrent List):** This list details matters on which both the federal and provincial governments can make laws.  In case of conflict, federal law prevails.  Examples include education, agriculture, health, and local government.  The exact balance of power on these concurrent subjects can be a source of tension between the federal and provincial governments.\n",
            "\n",
            "* **Concurrent Legislative List:** This list specifies subjects on which both the federal and provincial governments can legislate. If there's a conflict between federal and provincial laws, the federal law prevails.  Examples include criminal law, education, and public health.  This creates a shared area of responsibility, potentially leading to overlap and disputes.\n",
            "\n",
            "\n",
            "Beyond these lists, the Constitution grants the federal government specific powers:\n",
            "\n",
            "* **Residual Powers:**  The Constitution vests residual powers (i.e., powers not explicitly assigned to the provinces) in the federal government.  This allows the federal government to address new or unforeseen issues.\n",
            "\n",
            "* **Emergency Powers:**  In times of war, external aggression, or internal disturbance, the federal government can assume greater powers, potentially overriding provincial authority.  These powers are subject to constitutional limitations and safeguards.\n",
            "\n",
            "* **Executive Authority:** The President, as the head of state, and the Prime Minister, as the head of government, exercise significant executive powers at the federal level.  These powers include the appointment of key officials, implementation of laws, and control over the federal bureaucracy.\n",
            "\n",
            "* **Judicial Power:** The Supreme Court of Pakistan, at the federal level, has ultimate judicial authority, ensuring the constitutionality of federal and provincial laws and actions.\n",
            "\n",
            "It's important to note that the division of powers between the federal and provincial governments in Pakistan has been a subject of ongoing debate and political maneuvering.  The balance has shifted over time, with periods of greater centralization and decentralization.  Interpretations of the lists and the exercise of residual powers often lead to legal and political challenges.\n",
            "\n",
            "Question: What are the fundamental rights guaranteed by the Constitution of Pakistan?\n",
            "Answer: The Constitution of Pakistan guarantees a number of fundamental rights, although their enforcement and interpretation have been subject to debate and limitations throughout Pakistan's history.  These rights are primarily found in **Part II (Articles 15-40)**.  Key fundamental rights include:\n",
            "\n",
            "* **Right to Equality (Articles 25, 26, 27):**  This includes equality before the law, prohibition of discrimination on the basis of sex, race, religion, caste, or place of birth, and equal opportunities for all citizens.  However, the application of this right has been inconsistent.\n",
            "\n",
            "* **Right to Freedom (Articles 16, 17, 18, 19):**  This encompasses several freedoms:\n",
            "    * **Freedom of movement:**  The right to move freely throughout Pakistan.\n",
            "    * **Freedom of assembly:** The right to assemble peacefully and without arms.\n",
            "    * **Freedom of association:** The right to form associations or unions.\n",
            "    * **Freedom of speech and expression:** The right to express oneself freely, subject to reasonable restrictions.  This includes freedom of the press.\n",
            "    * **Freedom of religion:**  The right to profess, practice, and propagate one's religion.  While guaranteed, this right has been challenged in practice.\n",
            "\n",
            "* **Right to Security of Person (Articles 10, 12):**  This protects against arbitrary arrest and detention.  It guarantees the right to a fair trial and protection against torture and inhumane treatment.  However, issues with extrajudicial killings and enforced disappearances remain a significant concern.\n",
            "\n",
            "* **Protection of Property Rights (Article 24):**  Guarantees the right to acquire, hold, and dispose of property. However, the state can impose restrictions in the public interest.\n",
            "\n",
            "* **Right to Education (Article 25A):**  Added later, this guarantees free and compulsory education to all children of the age of five to sixteen years.  Implementation remains a challenge.\n",
            "\n",
            "* **Right to Work (Article 38):**  While not as explicitly defined as other rights, the Constitution aims to ensure fair wages and decent working conditions.\n",
            "\n",
            "It's crucial to understand that while these rights are enshrined in the Constitution, their practical implementation and enforcement are often hindered by various factors, including political instability, societal norms, and the interpretation of laws by the judiciary.  Furthermore, certain limitations and exceptions can be applied to these rights under specific circumstances.  The extent to which these rights are truly enjoyed by all citizens of Pakistan remains a subject of ongoing debate and concern.\n",
            "\n"
          ]
        }
      ]
    }
  ]
}