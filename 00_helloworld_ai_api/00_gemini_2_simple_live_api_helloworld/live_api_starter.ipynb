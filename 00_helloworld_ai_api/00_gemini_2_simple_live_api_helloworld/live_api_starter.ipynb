{
  "cells": [
    {
      "cell_type": "markdown",
      "metadata": {
        "id": "Tce3stUlHN0L"
      },
      "source": [
        "##### Copyright 2024 Google LLC."
      ]
    },
    {
      "cell_type": "code",
      "execution_count": null,
      "metadata": {
        "cellView": "form",
        "id": "tuOe1ymfHZPu"
      },
      "outputs": [],
      "source": [
        "#@title Licensed under the Apache License, Version 2.0 (the \"License\");\n",
        "# you may not use this file except in compliance with the License.\n",
        "# You may obtain a copy of the License at\n",
        "#\n",
        "# https://www.apache.org/licenses/LICENSE-2.0\n",
        "#\n",
        "# Unless required by applicable law or agreed to in writing, software\n",
        "# distributed under the License is distributed on an \"AS IS\" BASIS,\n",
        "# WITHOUT WARRANTIES OR CONDITIONS OF ANY KIND, either express or implied.\n",
        "# See the License for the specific language governing permissions and\n",
        "# limitations under the License."
      ]
    },
    {
      "cell_type": "markdown",
      "metadata": {
        "id": "R5DkeFMP75as"
      },
      "source": [
        "# Live API - Quickstart"
      ]
    },
    {
      "cell_type": "markdown",
      "metadata": {
        "id": "tqktCVDm1yFo"
      },
      "source": [
        "<table align=\"left\">\n",
        "  <td>\n",
        "    <a target=\"_blank\" href=\"https://colab.research.google.com/github/panaversity/learn-agentic-ai/blob/main/00_helloworld_ai_api/00_gemini_2_simple_live_api_helloworld/live_api_starter.ipynb\"><img src=\"https://ai.google.dev/site-assets/images/docs/colab_logo_32px.png\" />Run in Google Colab</a>\n",
        "  </td>\n",
        "</table>"
      ]
    },
    {
      "cell_type": "markdown",
      "metadata": {
        "id": "iS0rHk3RBrtA"
      },
      "source": [
        "# Google Gen AI SDK (experimental)\n",
        "The new Google Gen AI SDK provides a unified interface to Gemini 2.0 through both the Gemini Developer API and the Gemini API on Vertex AI. With a few exceptions, code that runs on one platform will run on both. This means that you can prototype an application using the Developer API and then migrate the application to Vertex AI without rewriting your code.\n",
        "\n",
        "The Gen AI SDK also supports the Gemini 1.5 models.\n",
        "\n",
        "The new SDK is available in Python and Go, with Java and JavaScript coming soon.\n",
        "\n",
        "You can start using the SDK as shown below.\n",
        "\n",
        "Install the new SDK: pip install google-genai\n",
        "\n",
        "Then import the library, initialize a client, and generate content:"
      ]
    },
    {
      "cell_type": "markdown",
      "metadata": {
        "id": "Mfk6YY3G5kqp"
      },
      "source": [
        "## Setup"
      ]
    },
    {
      "cell_type": "markdown",
      "metadata": {
        "id": "d5027929de8f"
      },
      "source": [
        "### Install SDK\n",
        "\n",
        "The new **[Google Gen AI SDK](https://ai.google.dev/gemini-api/docs/sdks)** provides programmatic access to Gemini 2.0 (and previous models) using both the [Google AI for Developers](https://ai.google.dev/gemini-api/docs) and [Vertex AI](https://cloud.google.com/vertex-ai/generative-ai/docs/overview) APIs. With a few exceptions, code that runs on one platform will run on both.\n",
        "\n",
        "More details about this new SDK on the [documentation](https://ai.google.dev/gemini-api/docs/sdks) or in the [Getting started](../gemini-2/get_started.ipynb) notebook."
      ]
    },
    {
      "cell_type": "code",
      "execution_count": 1,
      "metadata": {
        "id": "46zEFO2a9FFd",
        "colab": {
          "base_uri": "https://localhost:8080/"
        },
        "outputId": "fa9462ad-ebd9-49ee-e88d-abec054d2898"
      },
      "outputs": [
        {
          "output_type": "stream",
          "name": "stdout",
          "text": [
            "\u001b[2K   \u001b[90m━━━━━━━━━━━━━━━━━━━━━━━━━━━━━━━━━━━━━━━━\u001b[0m \u001b[32m114.2/114.2 kB\u001b[0m \u001b[31m1.2 MB/s\u001b[0m eta \u001b[36m0:00:00\u001b[0m\n",
            "\u001b[?25h"
          ]
        }
      ],
      "source": [
        "!pip install -U -q google-genai"
      ]
    },
    {
      "cell_type": "markdown",
      "metadata": {
        "id": "CTIfnvCn9HvH"
      },
      "source": [
        "### Set up your API key\n",
        "\n",
        "To run the following cell, your API key must be stored in a Colab Secret named `GOOGLE_API_KEY`. If you don't already have an API key, or you're not sure how to create a Colab Secret, see [Authentication](../quickstarts/Authentication.ipynb) for an example."
      ]
    },
    {
      "cell_type": "code",
      "execution_count": 3,
      "metadata": {
        "id": "A1pkoyZb9Jm3"
      },
      "outputs": [],
      "source": [
        "from google.colab import userdata\n",
        "import os\n",
        "\n",
        "os.environ['GOOGLE_API_KEY'] = userdata.get('GOOGLE_API_KEY')"
      ]
    },
    {
      "cell_type": "markdown",
      "metadata": {
        "id": "GOOZsm7i9io6"
      },
      "source": [
        "### Import\n",
        "\n",
        "Import all the necessary modules."
      ]
    },
    {
      "cell_type": "code",
      "execution_count": 4,
      "metadata": {
        "id": "Yd1vs3cP8EmS"
      },
      "outputs": [],
      "source": [
        "from google import genai"
      ]
    },
    {
      "cell_type": "markdown",
      "metadata": {
        "id": "3Hx_Gw9i0Yuv"
      },
      "source": [
        "### Initialize SDK client\n",
        "\n",
        "The client will pick up your API key from the environment variable.\n",
        "To use the live API you need to set the client version to `v1alpha`."
      ]
    },
    {
      "cell_type": "code",
      "execution_count": 5,
      "metadata": {
        "id": "HghvVpbU0Uap"
      },
      "outputs": [],
      "source": [
        "from google import genai\n",
        "client = genai.Client()"
      ]
    },
    {
      "cell_type": "markdown",
      "metadata": {
        "id": "QOov6dpG99rY"
      },
      "source": [
        "### Select a model\n",
        "\n",
        "Multimodal Live API are a new capability introduced with the [Gemini 2.0](https://ai.google.dev/gemini-api/docs/models/gemini-v2) model. It won't work with previous generation models.\n"
      ]
    },
    {
      "cell_type": "code",
      "execution_count": 6,
      "metadata": {
        "id": "27Fikag0xSaB"
      },
      "outputs": [],
      "source": [
        "MODEL: str = \"gemini-2.0-flash-exp\""
      ]
    },
    {
      "cell_type": "markdown",
      "metadata": {
        "id": "jj7gDzfDOq4h"
      },
      "source": [
        "## Text to Text\n",
        "\n",
        "The simplest way to use the Live API is as a text-to-text chat interface, but it can do **a lot** more than this."
      ]
    },
    {
      "cell_type": "code",
      "execution_count": 7,
      "metadata": {
        "colab": {
          "base_uri": "https://localhost:8080/"
        },
        "id": "dDfslcyIOqgI",
        "outputId": "98164d5e-5094-4a92-9a9f-d1ec7c0ce02f"
      },
      "outputs": [
        {
          "output_type": "stream",
          "name": "stdout",
          "text": [
            "Okay, let's break down how AI works. It's a broad field, so we'll focus on the core concepts and common methods. Think of it as a ladder, with basic ideas at the bottom and more advanced techniques built on top.\n",
            "\n",
            "**The Foundation: Data and Algorithms**\n",
            "\n",
            "At its heart, AI is about making computers learn and solve problems in ways that mimic human intelligence. This relies on two fundamental things:\n",
            "\n",
            "1. **Data:** AI thrives on data. It needs vast amounts of it to learn patterns, relationships, and make predictions. This data can be anything:\n",
            "    * **Text:** Books, articles, emails, social media posts.\n",
            "    * **Images:** Photos, videos, medical scans.\n",
            "    * **Audio:** Music, speech, sound effects.\n",
            "    * **Numerical Data:** Sales figures, stock prices, sensor readings.\n",
            "    * **Categorical Data:** Product types, user demographics, survey responses.\n",
            "\n",
            "2. **Algorithms:** These are sets of instructions that tell the computer how to process the data and learn from it. Think of them as recipes for AI. Different types of algorithms are used for different tasks.\n",
            "\n",
            "**The Ladder: Types of AI Techniques**\n",
            "\n",
            "Here's a simplified breakdown of common AI techniques, moving from more basic to more advanced:\n",
            "\n",
            "**1. Rule-Based Systems (Simple Logic):**\n",
            "\n",
            "* **How it works:** Programmers explicitly define rules for the AI to follow. For example, \"IF temperature is above 30°C, THEN turn on the AC.\"\n",
            "* **Pros:** Easy to understand and implement for simple problems.\n",
            "* **Cons:**  Inflexible, can't handle complex situations or learn from new data. Requires extensive manual rule creation.\n",
            "* **Examples:** Simple chatbots, game AI with predefined moves.\n",
            "\n",
            "**2. Machine Learning (Learning from Data):**\n",
            "\n",
            "* **How it works:** Instead of explicit rules, the AI is trained on data to find patterns and relationships. It uses algorithms to \"learn\" without being explicitly programmed for every possibility.\n",
            "* **Key Idea:** The more data the AI sees, the better it gets at its task.\n",
            "* **Subcategories of Machine Learning:**\n",
            "    * **Supervised Learning:** The AI is trained on labeled data (e.g., images of cats and dogs, with each image labeled). It learns to associate inputs with their corresponding outputs and then makes predictions on new, unseen data. (Examples: Image classification, spam detection)\n",
            "    * **Unsupervised Learning:** The AI is given unlabeled data and tries to find patterns and structures within it. (Examples: Customer segmentation, anomaly detection)\n",
            "    * **Reinforcement Learning:** The AI learns through trial and error, receiving rewards or penalties based on its actions. It learns to maximize its cumulative reward. (Examples: Game playing, robotics)\n",
            "\n",
            "**3. Deep Learning (A Powerful Form of Machine Learning):**\n",
            "\n",
            "* **How it works:**  Deep learning uses artificial neural networks with multiple layers (hence, \"deep\"). These networks can learn very complex patterns by processing data through these interconnected layers, mimicking the way the human brain works to some extent.\n",
            "* **Key Idea:**  Deep learning algorithms can automatically extract features from data, meaning they can learn very nuanced patterns that traditional machine learning might miss.\n",
            "* **Pros:**  Highly powerful for complex tasks, can often achieve state-of-the-art performance.\n",
            "* **Cons:**  Requires massive amounts of data and computational resources, can be a \"black box\" making it hard to understand why it makes specific decisions.\n",
            "* **Examples:** Image recognition, natural language processing (like understanding human language), speech recognition.\n",
            "\n",
            "**Key Concepts in AI:**\n",
            "\n",
            "* **Feature Extraction:** Identifying relevant information within the data that the AI can use for learning. In deep learning, this is often done automatically.\n",
            "* **Training:** The process of exposing the AI model to data and allowing it to learn.\n",
            "* **Inference (or Prediction):** Using the trained model to make predictions on new data.\n",
            "* **Evaluation:** Measuring the performance of the AI model to see how accurate or effective it is.\n",
            "* **Optimization:**  Adjusting the model parameters to improve its performance during training.\n",
            "\n",
            "**In a Nutshell:**\n",
            "\n",
            "1. **Data:** AI needs data to learn from.\n",
            "2. **Algorithms:** It uses algorithms to process that data.\n",
            "3. **Learning:** AI learns by finding patterns, extracting features, and building models.\n",
            "4. **Prediction:** It uses these learned models to make predictions and solve problems.\n",
            "\n",
            "**The Importance of Continuous Improvement:**\n",
            "\n",
            "AI is not a one-time fix. It's a continuous process of:\n",
            "\n",
            "* **Collecting more data:** To improve its accuracy and generalization.\n",
            "* **Refining algorithms:** To make learning more efficient.\n",
            "* **Evaluating performance:** To identify areas for improvement.\n",
            "\n",
            "**Important Notes:**\n",
            "\n",
            "* **AI is not magic:** It's a tool, and its effectiveness depends on the quality of data and algorithms used.\n",
            "* **Ethical considerations:** AI raises important ethical concerns about bias, privacy, and accountability that need to be addressed.\n",
            "* **AI is still evolving:**  The field is constantly developing, with new techniques and applications emerging all the time.\n",
            "\n",
            "This explanation provides a good overview of how AI works. Each technique is highly complex in practice, but this simplified explanation gives you a basic grasp of the core concepts. Do you have any specific questions you'd like to delve into further?\n",
            "\n"
          ]
        }
      ],
      "source": [
        "response = client.models.generate_content(\n",
        "    model=MODEL, contents='How does AI work?'\n",
        ")\n",
        "print(response.text)"
      ]
    },
    {
      "cell_type": "code",
      "source": [
        "response = client.models.generate_content(\n",
        "    model=MODEL, contents='do you find daniyal asghar from linkedln?'\n",
        ")\n",
        "print(response.text)"
      ],
      "metadata": {
        "colab": {
          "base_uri": "https://localhost:8080/"
        },
        "id": "Aeub9P7bkLIQ",
        "outputId": "f8cf8837-08f7-4321-eb7b-12e671d25dcd"
      },
      "execution_count": 9,
      "outputs": [
        {
          "output_type": "stream",
          "name": "stdout",
          "text": [
            "I can't directly access LinkedIn or other websites to conduct real-time searches for individuals. My capabilities are limited to processing and generating text-based information.\n",
            "\n",
            "However, here's how **you** can find Daniyal Asghar on LinkedIn:\n",
            "\n",
            "1.  **Go to the LinkedIn website:** Open your web browser and go to www.linkedin.com.\n",
            "2.  **Use the search bar:** In the search bar at the top of the page, type in \"Daniyal Asghar\".\n",
            "3.  **Browse the results:** LinkedIn will display a list of profiles that match your search query. You may need to scroll through and look for the profile that matches the person you are looking for. \n",
            "4.  **Use filters:** If you have a large number of results, you can use the filters on the search results page to narrow down the search. You can filter by location, company, industry, and more.\n",
            "5.  **View the profile:** Once you find the profile that looks like the correct person, click on their name to view their full profile.\n",
            "\n",
            "**Tips for a more successful search:**\n",
            "\n",
            "*   **Add keywords:** If you know other information about Daniyal Asghar, like their job title, company name, or location, add that to the search bar. For example: \"Daniyal Asghar Software Engineer\" or \"Daniyal Asghar Google\".\n",
            "*   **Try variations:** If you don't find the exact profile, try different variations of the name (e.g., \"Dan Asghar\").\n",
            "*   **Check for common names:** If it's a common name, pay extra attention to the profile details to ensure you have the right person.\n",
            "\n",
            "**Why I can't do it for you:**\n",
            "\n",
            "*   **Privacy:** LinkedIn profiles contain personal information, and accessing them requires user authentication and authorization. I don't have that ability.\n",
            "*   **Real-time access:** I don't have the ability to navigate the web or use websites like LinkedIn to perform searches. I process and generate information based on the data I have been trained on.\n",
            "\n",
            "I hope this helps you in your search! Let me know if you have any other questions.\n",
            "\n"
          ]
        }
      ]
    }
  ],
  "metadata": {
    "colab": {
      "collapsed_sections": [
        "Tce3stUlHN0L"
      ],
      "provenance": []
    },
    "kernelspec": {
      "display_name": "Python 3",
      "name": "python3"
    }
  },
  "nbformat": 4,
  "nbformat_minor": 0
}